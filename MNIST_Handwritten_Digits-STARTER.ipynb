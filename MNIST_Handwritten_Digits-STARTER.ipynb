{
 "cells": [
  {
   "cell_type": "markdown",
   "metadata": {},
   "source": [
    "# Introduction\n",
    "\n",
    "In this project, you will build a neural network of your own design to evaluate the MNIST dataset.\n",
    "\n",
    "Some of the benchmark results on MNIST include can be found [on Yann LeCun's page](https://webcache.googleusercontent.com/search?q=cache:stAVPik6onEJ:yann.lecun.com/exdb/mnist) and include:\n",
    "\n",
    "88% [Lecun et al., 1998](https://hal.science/hal-03926082/document)\n",
    "\n",
    "95.3% [Lecun et al., 1998](https://hal.science/hal-03926082v1/document)\n",
    "\n",
    "99.65% [Ciresan et al., 2011](http://people.idsia.ch/~juergen/ijcai2011.pdf)\n",
    "\n",
    "\n",
    "MNIST is a great dataset for sanity checking your models, since the accuracy levels achieved by large convolutional neural networks and small linear models are both quite high. This makes it important to be familiar with the data.\n",
    "\n",
    "## Installation"
   ]
  },
  {
   "cell_type": "code",
   "execution_count": 38,
   "metadata": {},
   "outputs": [
    {
     "name": "stdout",
     "output_type": "stream",
     "text": [
      "Requirement already satisfied: ipywidgets==8.1.5 in /home/emdeh/anaconda3/envs/mnist-ocr/lib/python3.10/site-packages (from -r requirements.txt (line 1)) (8.1.5)\n",
      "Requirement already satisfied: comm>=0.1.3 in /home/emdeh/anaconda3/envs/mnist-ocr/lib/python3.10/site-packages (from ipywidgets==8.1.5->-r requirements.txt (line 1)) (0.2.2)\n",
      "Requirement already satisfied: ipython>=6.1.0 in /home/emdeh/anaconda3/envs/mnist-ocr/lib/python3.10/site-packages (from ipywidgets==8.1.5->-r requirements.txt (line 1)) (8.35.0)\n",
      "Requirement already satisfied: traitlets>=4.3.1 in /home/emdeh/anaconda3/envs/mnist-ocr/lib/python3.10/site-packages (from ipywidgets==8.1.5->-r requirements.txt (line 1)) (5.14.3)\n",
      "Requirement already satisfied: widgetsnbextension~=4.0.12 in /home/emdeh/anaconda3/envs/mnist-ocr/lib/python3.10/site-packages (from ipywidgets==8.1.5->-r requirements.txt (line 1)) (4.0.14)\n",
      "Requirement already satisfied: jupyterlab-widgets~=3.0.12 in /home/emdeh/anaconda3/envs/mnist-ocr/lib/python3.10/site-packages (from ipywidgets==8.1.5->-r requirements.txt (line 1)) (3.0.14)\n",
      "Requirement already satisfied: decorator in /home/emdeh/anaconda3/envs/mnist-ocr/lib/python3.10/site-packages (from ipython>=6.1.0->ipywidgets==8.1.5->-r requirements.txt (line 1)) (5.2.1)\n",
      "Requirement already satisfied: exceptiongroup in /home/emdeh/anaconda3/envs/mnist-ocr/lib/python3.10/site-packages (from ipython>=6.1.0->ipywidgets==8.1.5->-r requirements.txt (line 1)) (1.2.2)\n",
      "Requirement already satisfied: jedi>=0.16 in /home/emdeh/anaconda3/envs/mnist-ocr/lib/python3.10/site-packages (from ipython>=6.1.0->ipywidgets==8.1.5->-r requirements.txt (line 1)) (0.19.2)\n",
      "Requirement already satisfied: matplotlib-inline in /home/emdeh/anaconda3/envs/mnist-ocr/lib/python3.10/site-packages (from ipython>=6.1.0->ipywidgets==8.1.5->-r requirements.txt (line 1)) (0.1.7)\n",
      "Requirement already satisfied: pexpect>4.3 in /home/emdeh/anaconda3/envs/mnist-ocr/lib/python3.10/site-packages (from ipython>=6.1.0->ipywidgets==8.1.5->-r requirements.txt (line 1)) (4.9.0)\n",
      "Requirement already satisfied: prompt_toolkit<3.1.0,>=3.0.41 in /home/emdeh/anaconda3/envs/mnist-ocr/lib/python3.10/site-packages (from ipython>=6.1.0->ipywidgets==8.1.5->-r requirements.txt (line 1)) (3.0.50)\n",
      "Requirement already satisfied: pygments>=2.4.0 in /home/emdeh/anaconda3/envs/mnist-ocr/lib/python3.10/site-packages (from ipython>=6.1.0->ipywidgets==8.1.5->-r requirements.txt (line 1)) (2.19.1)\n",
      "Requirement already satisfied: stack_data in /home/emdeh/anaconda3/envs/mnist-ocr/lib/python3.10/site-packages (from ipython>=6.1.0->ipywidgets==8.1.5->-r requirements.txt (line 1)) (0.6.3)\n",
      "Requirement already satisfied: typing_extensions>=4.6 in /home/emdeh/anaconda3/envs/mnist-ocr/lib/python3.10/site-packages (from ipython>=6.1.0->ipywidgets==8.1.5->-r requirements.txt (line 1)) (4.13.2)\n",
      "Requirement already satisfied: parso<0.9.0,>=0.8.4 in /home/emdeh/anaconda3/envs/mnist-ocr/lib/python3.10/site-packages (from jedi>=0.16->ipython>=6.1.0->ipywidgets==8.1.5->-r requirements.txt (line 1)) (0.8.4)\n",
      "Requirement already satisfied: ptyprocess>=0.5 in /home/emdeh/anaconda3/envs/mnist-ocr/lib/python3.10/site-packages (from pexpect>4.3->ipython>=6.1.0->ipywidgets==8.1.5->-r requirements.txt (line 1)) (0.7.0)\n",
      "Requirement already satisfied: wcwidth in /home/emdeh/anaconda3/envs/mnist-ocr/lib/python3.10/site-packages (from prompt_toolkit<3.1.0,>=3.0.41->ipython>=6.1.0->ipywidgets==8.1.5->-r requirements.txt (line 1)) (0.2.13)\n",
      "Requirement already satisfied: executing>=1.2.0 in /home/emdeh/anaconda3/envs/mnist-ocr/lib/python3.10/site-packages (from stack_data->ipython>=6.1.0->ipywidgets==8.1.5->-r requirements.txt (line 1)) (2.1.0)\n",
      "Requirement already satisfied: asttokens>=2.1.0 in /home/emdeh/anaconda3/envs/mnist-ocr/lib/python3.10/site-packages (from stack_data->ipython>=6.1.0->ipywidgets==8.1.5->-r requirements.txt (line 1)) (3.0.0)\n",
      "Requirement already satisfied: pure_eval in /home/emdeh/anaconda3/envs/mnist-ocr/lib/python3.10/site-packages (from stack_data->ipython>=6.1.0->ipywidgets==8.1.5->-r requirements.txt (line 1)) (0.2.3)\n"
     ]
    }
   ],
   "source": [
    "# Restart the Kernel after you execute this command.\n",
    "\n",
    "!python -m pip install -r requirements.txt"
   ]
  },
  {
   "cell_type": "markdown",
   "metadata": {},
   "source": [
    "**Important: Restart the Kernel at this moment**"
   ]
  },
  {
   "cell_type": "markdown",
   "metadata": {},
   "source": [
    "## Imports"
   ]
  },
  {
   "cell_type": "code",
   "execution_count": 39,
   "metadata": {},
   "outputs": [],
   "source": [
    "## This cell contains the essential imports you will need – DO NOT CHANGE THE CONTENTS! ##\n",
    "import torch\n",
    "import torch.nn as nn\n",
    "import torch.nn.functional as F\n",
    "import torch.optim as optim\n",
    "import torchvision\n",
    "import torchvision.transforms as transforms\n",
    "import matplotlib.pyplot as plt\n",
    "import numpy as np"
   ]
  },
  {
   "cell_type": "markdown",
   "metadata": {},
   "source": [
    "## Load the Dataset\n",
    "\n",
    "Specify your transforms as a list if you intend to .\n",
    "The transforms module is already loaded as `transforms`.\n",
    "\n",
    "MNIST is fortunately included in the torchvision module.\n",
    "Then, you can create your dataset using the `MNIST` object from `torchvision.datasets` ([the documentation is available here](https://pytorch.org/vision/stable/datasets.html#mnist)).\n",
    "Make sure to specify `download=True`! \n",
    "\n",
    "Once your dataset is created, you'll also need to define a `DataLoader` from the `torch.utils.data` module for both the train and the test set."
   ]
  },
  {
   "cell_type": "code",
   "execution_count": 40,
   "metadata": {},
   "outputs": [
    {
     "name": "stdout",
     "output_type": "stream",
     "text": [
      "Train samples: 48000\n",
      "Val samples: 12000\n",
      "Test samples: 10000\n"
     ]
    }
   ],
   "source": [
    "# Define transforms\n",
    "# - ToTensor() converts PIL image to a PyTorch tensor and scales pixel values from [0, 255] → [0.0, 1.0]\n",
    "#\n",
    "# - Normalize(mean, std) rescales the image further to [-1, 1] using the formula: x' = (x - mean) / std\n",
    "#     This standardisation helps reduce internal covariate shift, allowing the model to converge faster\n",
    "#     because the data distribution is more stable and zero-centred.\n",
    "#\n",
    "# - Lambda(lambda x: x.view(-1)) flattens the image from a 2D shape (1, 28, 28) → (784,)\n",
    "#     This is necessary for fully connected layers that expect 1D input features per example\n",
    "\n",
    "transform = transforms.Compose([\n",
    "    transforms.ToTensor(),\n",
    "    transforms.Normalize((0.5,), (0.5,)),\n",
    "    transforms.Lambda(lambda x: x.view(-1))\n",
    "])\n",
    "\n",
    "# Create training set and define training dataloader\n",
    "from torchvision.datasets import MNIST\n",
    "from torch.utils.data import DataLoader, random_split\n",
    "\n",
    "\n",
    "# 1) Download the full train/test sets\n",
    "full_train = MNIST(root='./data',\n",
    "                   train=True,\n",
    "                   download=True,\n",
    "                   transform=transform)\n",
    "\n",
    "test_dataset = MNIST(root='./data',\n",
    "                     train=False,\n",
    "                     download=True,\n",
    "                     transform=transform)\n",
    "\n",
    "# 2) Split train → train + validation (80/20 split)\n",
    "train_size = int(0.8 * len(full_train))      # 48 000\n",
    "val_size   = len(full_train) - train_size    # 12 000\n",
    "\n",
    "train_dataset, val_dataset = random_split(\n",
    "    full_train,\n",
    "    [train_size, val_size],\n",
    "    generator=torch.Generator().manual_seed(42)  # for reproducibility\n",
    ")\n",
    "\n",
    "# 3) Create loaders\n",
    "train_loader = DataLoader(train_dataset, batch_size=64, shuffle=True)\n",
    "val_loader   = DataLoader(val_dataset,   batch_size=64, shuffle=False)\n",
    "test_loader  = DataLoader(test_dataset,  batch_size=64, shuffle=False)\n",
    "\n",
    "print(f\"Train samples: {len(train_dataset)}\")\n",
    "print(f\"Val samples: {len(val_dataset)}\")\n",
    "print(f\"Test samples: {len(test_dataset)}\")"
   ]
  },
  {
   "cell_type": "markdown",
   "metadata": {},
   "source": [
    "## Justify your preprocessing\n",
    "\n",
    "In your own words, why did you choose the transforms you chose? If you didn't use any preprocessing steps, why not?"
   ]
  },
  {
   "cell_type": "markdown",
   "metadata": {},
   "source": [
    "## Justification of Preprocessing Steps\n",
    "\n",
    "**`ToTensor()`:**\n",
    "Converts each image from a PIL object to a PyTorch tensor and scales pixel values from `[0, 255]` to `[0.0, 1.0]`. This is required because neural networks in `PyTorch` operate on tensors, not PIL images or NumPy arrays.\n",
    "\n",
    "**`Normalize((0.5,), (0.5,))`:**\n",
    "Further scales the input to the range `[-1, 1]`. Normalisation centres the data around zero, which improves training stability and speeds up convergence toward the set of weights (i.e., model parameters) that minimise the loss function. This helps the optimiser make smoother progress during gradient descent — especially in deep networks, where poorly scaled inputs can lead to unstable or slow training.\n",
    "\n",
    "**`Lambda(lambda x: x.view(-1))`:**\n",
    "This transform flattens each `28×28` image — originally shaped as `[1, 28, 28]` (1 grayscale channel and 28×28 pixels) — into a 1D vector of 784 elements. This is required because the input to a fully connected neural network must be a vector, not a 2D grid.\n",
    "\n",
    "In this project, we use `nn.Linear` layers, which expect inputs of shape `[batch_size, features]`, where:\n",
    "- `batch_size` is the number of examples passed together in one forward/backward pass\n",
    "- `features` is the number of input values per example. For MNIST, `28×28` pixels = **784 features** (i.e., individual pixel values treated as a vector)\n",
    "\n",
    "Flattening ensures that each image can be correctly passed to the input layer, where the number of input features must match the expected size (in this case, 784).\n",
    "\n",
    "Without flattening, a shape mismatch error would occur when passing 2D image tensors into the input layer. Flattening transforms the 2D spatial structure of the image into a linear representation that can be processed by the network."
   ]
  },
  {
   "cell_type": "markdown",
   "metadata": {},
   "source": [
    "## Explore the Dataset\n",
    "Using matplotlib, numpy, and torch, explore the dimensions of your data.\n",
    "\n",
    "You can view images using the `show5` function defined below – it takes a data loader as an argument.\n",
    "Remember that normalized images will look really weird to you! You may want to try changing your transforms to view images.\n",
    "Typically using no transforms other than `toTensor()` works well for viewing – but not as well for training your network.\n",
    "If `show5` doesn't work, go back and check your code for creating your data loaders and your training/test sets."
   ]
  },
  {
   "cell_type": "code",
   "execution_count": 41,
   "metadata": {},
   "outputs": [],
   "source": [
    "## This cell contains a function for showing 5 images from a dataloader – DO NOT CHANGE THE CONTENTS! ##\n",
    "def show5(img_loader):\n",
    "    dataiter = iter(img_loader)\n",
    "    \n",
    "    batch = next(dataiter)\n",
    "    labels = batch[1][0:5]\n",
    "    images = batch[0][0:5]\n",
    "    for i in range(5):\n",
    "        print(int(labels[i].detach()))\n",
    "    \n",
    "        image = images[i].numpy()\n",
    "        plt.imshow(image.T.squeeze().T)\n",
    "        plt.show()"
   ]
  },
  {
   "cell_type": "code",
   "execution_count": 42,
   "metadata": {},
   "outputs": [
    {
     "name": "stdout",
     "output_type": "stream",
     "text": [
      "1\n"
     ]
    },
    {
     "data": {
      "image/png": "[encoded data removed]",
      "text/plain": [
       "<Figure size 640x480 with 1 Axes>"
      ]
     },
     "metadata": {},
     "output_type": "display_data"
    },
    {
     "name": "stdout",
     "output_type": "stream",
     "text": [
      "5\n"
     ]
    },
    {
     "data": {
      "image/png": "[encoded data removed]",
      "text/plain": [
       "<Figure size 640x480 with 1 Axes>"
      ]
     },
     "metadata": {},
     "output_type": "display_data"
    },
    {
     "name": "stdout",
     "output_type": "stream",
     "text": [
      "2\n"
     ]
    },
    {
     "data": {
      "image/png": "[encoded data removed]",
      "text/plain": [
       "<Figure size 640x480 with 1 Axes>"
      ]
     },
     "metadata": {},
     "output_type": "display_data"
    },
    {
     "name": "stdout",
     "output_type": "stream",
     "text": [
      "9\n"
     ]
    },
    {
     "data": {
      "image/png": "[encoded data removed]",
      "text/plain": [
       "<Figure size 640x480 with 1 Axes>"
      ]
     },
     "metadata": {},
     "output_type": "display_data"
    },
    {
     "name": "stdout",
     "output_type": "stream",
     "text": [
      "4\n"
     ]
    },
    {
     "data": {
      "image/png": "[encoded data removed]",
      "text/plain": [
       "<Figure size 640x480 with 1 Axes>"
      ]
     },
     "metadata": {},
     "output_type": "display_data"
    },
    {
     "name": "stdout",
     "output_type": "stream",
     "text": [
      "Image shape (before transform): torch.Size([1, 28, 28])\n",
      "Label (class index): 5\n",
      "Image shape (after transform): torch.Size([784])\n",
      "Label: 5\n",
      "Total training samples: 48000\n",
      "Total test samples: 10000\n"
     ]
    }
   ],
   "source": [
    "# Explore data\n",
    "\n",
    "# Transform for human viewing - no normalisation or flattening\n",
    "view_transform = transforms.ToTensor()\n",
    "\n",
    "# New dataset and dataloader for viewing\n",
    "view_dataset = MNIST(root='./data', train=True, download=True, transform=view_transform)\n",
    "view_loader = DataLoader(dataset=view_dataset, batch_size=64, shuffle=True)\n",
    "\n",
    "# Show 5 images\n",
    "show5(view_loader)\n",
    "\n",
    "# Explore data shape\n",
    "sample_image, sample_label = view_dataset[0]\n",
    "\n",
    "print(f\"Image shape (before transform): {sample_image.shape}\") # should be (1, 28, 28)\n",
    "print(f\"Label (class index): {sample_label}\")  # should be somehting like: 7\n",
    "\n",
    "\n",
    "print(f\"Image shape (after transform): {sample_image.view(-1).shape}\")\n",
    "print(f\"Label: {sample_label}\")\n",
    "\n",
    "print(f\"Total training samples: {len(train_dataset)}\")\n",
    "print(f\"Total test samples: {len(test_dataset)}\")\n",
    "\n"
   ]
  },
  {
   "cell_type": "markdown",
   "metadata": {},
   "source": [
    "## Build your Neural Network\n",
    "Using the layers in `torch.nn` (which has been imported as `nn`) and the `torch.nn.functional` module (imported as `F`), construct a neural network based on the parameters of the dataset.\n",
    "Use any architecture you like. \n",
    "\n",
    "*Note*: If you did not flatten your tensors in your transforms or as part of your preprocessing and you are using only `Linear` layers, make sure to use the `Flatten` layer in your network!"
   ]
  },
  {
   "cell_type": "code",
   "execution_count": 43,
   "metadata": {},
   "outputs": [],
   "source": [
    "class NeuralNetwork(nn.Module):\n",
    "    def __init__(self):\n",
    "        super(NeuralNetwork, self).__init__()\n",
    "        self.model = nn.Sequential(\n",
    "            # Layer 1\n",
    "            # - nn.Linear() creates a fully connected layer\n",
    "            # - input size is 28*28 = 784\n",
    "            # - output size is 128-dimensional feature space (hidden layer)\n",
    "            # - nn.ReLU() applies the ReLU activation function\n",
    "            nn.Linear(28*28, 128),\n",
    "            nn.ReLU(),\n",
    "            # Layer 2\n",
    "            # - nn.Linear() creates another fully connected layer\n",
    "            # - input size is 128 (from previous layer)\n",
    "            # - output size is 64-dimensional feature space (hidden layer)\n",
    "            # - nn.ReLU() applies the ReLU activation function\n",
    "            nn.Linear(128, 64),       # hidden -> smaller hidden\n",
    "            nn.ReLU(),\n",
    "            # Layer 3\n",
    "            # - nn.Linear() creates another fully connected layer\n",
    "            # - input size is 64 (from previous layer)\n",
    "            # - output size is 10 (number of classes in MNIST), reducing to 10 \n",
    "            #   classes (one per digit)\n",
    "            # - nn.LogSoftmax() applies the log softmax activation function and \n",
    "            #   turns scores into log-probabilities for each class\n",
    "            nn.Linear(64, 10),        # hidden -> 10 output classes\n",
    "            nn.LogSoftmax(dim=1)      # log‑probabilities for NLLLoss\n",
    "        )\n",
    "\n",
    "    def forward(self, x):\n",
    "        # Forward pass through the model\n",
    "        # - x is the input tensor (batch of images)\n",
    "        return self.model(x)\n"
   ]
  },
  {
   "cell_type": "markdown",
   "metadata": {},
   "source": [
    "Specify a loss function and an optimizer, and instantiate the model.\n",
    "\n",
    "If you use a less common loss function, please note why you chose that loss function in a comment."
   ]
  },
  {
   "cell_type": "code",
   "execution_count": 44,
   "metadata": {},
   "outputs": [],
   "source": [
    "# 1. Instantiate your network\n",
    "model = NeuralNetwork()\n",
    "\n",
    "# 2. Loss function\n",
    "# - Using Negative Log Likelihood because the last layer is LogSoftmax.abs\n",
    "# - LogSoftmax() outputs log-probabilities\n",
    "# - NLLLoss() expects log-probabilities as input\n",
    "# - NLLLoss() computes the negative log likelihood loss between the predicted \n",
    "#   log-probabilities and the true labels\n",
    "criterion = nn.NLLLoss()\n",
    "\n",
    "# 3. Optimiser\n",
    "# - Adam optimiser is an adaptive learning rate optimisation algorithm.\n",
    "# - Combines benefits of momentum and adaptive learning rate methods\n",
    "# - Has fast convergence on data with sparse gradients\n",
    "# - Learning rate is set to 0.003\n",
    "optimizer = optim.Adam(model.parameters(), lr=0.003)\n"
   ]
  },
  {
   "cell_type": "markdown",
   "metadata": {},
   "source": [
    "## Running your Neural Network\n",
    "Use whatever method you like to train your neural network, and ensure you record the average loss at each epoch. \n",
    "Don't forget to use `torch.device()` and the `.to()` method for both your model and your data if you are using GPU!\n",
    "\n",
    "If you want to print your loss **during** each epoch, you can use the `enumerate` function and print the loss after a set number of batches. 250 batches works well for most people!"
   ]
  },
  {
   "cell_type": "code",
   "execution_count": 45,
   "metadata": {},
   "outputs": [
    {
     "name": "stdout",
     "output_type": "stream",
     "text": [
      "Using device: cpu [CPU]\n",
      "Available CPU cores: 32\n",
      "Epoch [1/5], Batch [250/750], Loss: 0.5512\n",
      "Epoch [1/5], Batch [500/750], Loss: 0.4215\n",
      "Epoch [1/5], Batch [750/750], Loss: 0.3590\n",
      "Epoch [1/5], Average Training Loss: 0.3590\n",
      " Validation Loss: 0.2647, Accuracy: 93.47%\n",
      "\n",
      "Epoch [2/5], Batch [250/750], Loss: 0.1925\n",
      "Epoch [2/5], Batch [500/750], Loss: 0.1875\n",
      "Epoch [2/5], Batch [750/750], Loss: 0.1795\n",
      "Epoch [2/5], Average Training Loss: 0.1795\n",
      " Validation Loss: 0.1913, Accuracy: 95.28%\n",
      "\n",
      "Epoch [3/5], Batch [250/750], Loss: 0.1529\n",
      "Epoch [3/5], Batch [500/750], Loss: 0.1525\n",
      "Epoch [3/5], Batch [750/750], Loss: 0.1451\n",
      "Epoch [3/5], Average Training Loss: 0.1451\n",
      " Validation Loss: 0.1751, Accuracy: 95.80%\n",
      "\n",
      "Epoch [4/5], Batch [250/750], Loss: 0.1189\n",
      "Epoch [4/5], Batch [500/750], Loss: 0.1170\n",
      "Epoch [4/5], Batch [750/750], Loss: 0.1229\n",
      "Epoch [4/5], Average Training Loss: 0.1229\n",
      " Validation Loss: 0.1817, Accuracy: 95.78%\n",
      "\n",
      "Epoch [5/5], Batch [250/750], Loss: 0.1059\n",
      "Epoch [5/5], Batch [500/750], Loss: 0.1102\n",
      "Epoch [5/5], Batch [750/750], Loss: 0.1136\n",
      "Epoch [5/5], Average Training Loss: 0.1136\n",
      " Validation Loss: 0.1978, Accuracy: 95.28%\n",
      "\n"
     ]
    }
   ],
   "source": [
    "### DEVICE SETUP ###\n",
    "import os\n",
    "\n",
    "# CUDA (NVIDIA) if available\n",
    "if torch.cuda.is_available():\n",
    "    device = torch.device('cuda')\n",
    "    backend = f'CUDA ({torch.cuda.get_device_name(0)})'\n",
    "\n",
    "# AMD via DirectML if torch-directml is installed\n",
    "else:\n",
    "    try:\n",
    "        import torch_directml\n",
    "        device = torch_directml.device()\n",
    "        backend = 'DirectML (AMD GPU)'\n",
    "    except ImportError:\n",
    "# 3 Fallback to CPU\n",
    "        device = torch.device('cpu')\n",
    "        backend = 'CPU'\n",
    "\n",
    "# 4 Report\n",
    "cpu_cores = os.cpu_count()\n",
    "print(f\"Using device: {device} [{backend}]\")\n",
    "print(f\"Available CPU cores: {cpu_cores}\")\n",
    "\n",
    "### HYPERPARAMETERS ###\n",
    "epochs = 5\n",
    "train_losses = []\n",
    "val_losses = []\n",
    "train_accuracies = []\n",
    "val_accuracies = []\n",
    "\n",
    "### TRAINING LOOP ###\n",
    "# Loop over epochs\n",
    "for epoch in range (1, epochs + 1):\n",
    "    # Set model to training mode\n",
    "    model.train()\n",
    "\n",
    "    # Initialise running loss\n",
    "    running_loss = 0.0\n",
    "\n",
    "    # Loop over batches in training set\n",
    "    for batch_idx, (images, labels) in enumerate(train_loader, start=1):\n",
    "        # Move data to device\n",
    "        images, labels = images.to(device), labels.to(device)\n",
    "\n",
    "        # Zero gradients\n",
    "        optimizer.zero_grad()\n",
    "\n",
    "        # Forward pass\n",
    "        outputs = model(images)\n",
    "\n",
    "        # Compute loss\n",
    "        loss = criterion(outputs, labels)\n",
    "\n",
    "        # Backward pass\n",
    "        loss.backward()\n",
    "\n",
    "        # Optimiser step\n",
    "        optimizer.step()\n",
    "\n",
    "        # Accumulate running loss\n",
    "        running_loss += loss.item()\n",
    "\n",
    "        # Print every 250 batches\n",
    "        if batch_idx % 250 == 0:\n",
    "            # Calculate average loss for this epoch\n",
    "            avg_loss = running_loss / batch_idx\n",
    "\n",
    "            # Print loss\n",
    "            print(f\"Epoch [{epoch}/{epochs}], Batch [{batch_idx}/{len(train_loader)}], Loss: {avg_loss:.4f}\")\n",
    "\n",
    "    # Record average traiing loss for current epoch\n",
    "    avg_train_loss = running_loss / len(train_loader)\n",
    "    train_losses.append(avg_train_loss)\n",
    "    print(f\"Epoch [{epoch}/{epochs}], Average Training Loss: {avg_train_loss:.4f}\")\n",
    "\n",
    "    ### VALIDATION LOOP ###\n",
    "    # Set model to evaluation mode\n",
    "    model.eval()\n",
    "    # Initialise running loss and accuracy\n",
    "    # - Running loss is the cumulative loss over all batches\n",
    "    # - Correct is the number of correct predictions\n",
    "    running_val_loss = 0.0\n",
    "    correct = total = 0\n",
    "\n",
    "    with torch.no_grad():\n",
    "        # Loop over batches in test set\n",
    "        # - No gradients are calculated during validation\n",
    "        # - No backpropagation or optimiser step\n",
    "        for images, labels in val_loader:\n",
    "            images, labels = images.to(device), labels.to(device)\n",
    "            outputs = model(images)\n",
    "            loss = criterion(outputs, labels)\n",
    "            running_val_loss += loss.item()\n",
    "\n",
    "            preds = outputs.argmax(dim=1)\n",
    "            correct += (preds == labels).sum().item()\n",
    "            total += labels.size(0)\n",
    "\n",
    "    # Calculate average validation loss and accuracy\n",
    "    # - Average validation loss is the cumulative loss over all batches\n",
    "    # - Correct is the number of correct predictions\n",
    "    # - Total is the total number of samples in the test set\n",
    "    # - Accuracy is the ratio of correct predictions to total samples\n",
    "    avg_val_loss = running_val_loss / len(test_loader)\n",
    "    val_accuracy = correct / total\n",
    "    val_losses.append(avg_val_loss)\n",
    "    val_accuracies.append(val_accuracy)\n",
    "\n",
    "    print(f\" Validation Loss: {avg_val_loss:.4f}, Accuracy: {val_accuracy:.2%}\\n\")"
   ]
  },
  {
   "cell_type": "markdown",
   "metadata": {},
   "source": [
    "Plot the training loss (and validation loss/accuracy, if recorded)."
   ]
  },
  {
   "cell_type": "code",
   "execution_count": 46,
   "metadata": {},
   "outputs": [
    {
     "data": {
      "image/png": "[encoded data removed]",
      "text/plain": [
       "<Figure size 640x480 with 1 Axes>"
      ]
     },
     "metadata": {},
     "output_type": "display_data"
    },
    {
     "data": {
      "image/png": "[encoded data removed]",
      "text/plain": [
       "<Figure size 640x480 with 1 Axes>"
      ]
     },
     "metadata": {},
     "output_type": "display_data"
    }
   ],
   "source": [
    "epochs_range = range(1, epochs+1)\n",
    "\n",
    "# 1) Loss curves\n",
    "plt.plot(epochs_range, train_losses, label='Training Loss')\n",
    "plt.plot(epochs_range, val_losses,   label='Validation Loss')\n",
    "plt.xlabel('Epoch')\n",
    "plt.ylabel('Loss')\n",
    "plt.title('Training vs Validation Loss per Epoch')\n",
    "plt.legend()\n",
    "plt.show()\n",
    "\n",
    "# 2) Validation accuracy\n",
    "plt.plot(epochs_range, val_accuracies, marker='o')\n",
    "plt.xlabel('Epoch')\n",
    "plt.ylabel('Accuracy')\n",
    "plt.title('Validation Accuracy per Epoch')\n",
    "plt.ylim(0,1)\n",
    "plt.show()"
   ]
  },
  {
   "cell_type": "markdown",
   "metadata": {},
   "source": [
    "## Testing your model\n",
    "Using the previously created `DataLoader` for the test set, compute the percentage of correct predictions using the highest probability prediction. \n",
    "\n",
    "If your accuracy is over 90%, great work, but see if you can push a bit further! \n",
    "If your accuracy is under 90%, you'll need to make improvements.\n",
    "Go back and check your model architecture, loss function, and optimizer to make sure they're appropriate for an image classification task."
   ]
  },
  {
   "cell_type": "code",
   "execution_count": 47,
   "metadata": {},
   "outputs": [
    {
     "name": "stdout",
     "output_type": "stream",
     "text": [
      "Test Accuracy: 95.49%\n"
     ]
    }
   ],
   "source": [
    "# Switch to eval mode\n",
    "model.eval()\n",
    "\n",
    "# Track total and correct\n",
    "total = 0\n",
    "correct = 0\n",
    "\n",
    "# Loop over batches in test set\n",
    "with torch.no_grad():\n",
    "    for images, labels in test_loader:\n",
    "        # Move data to device\n",
    "        images, labels = images.to(device), labels.to(device)\n",
    "\n",
    "        # Forward pass\n",
    "        outputs = model(images)\n",
    "\n",
    "        # Pick class with highest log-probability\n",
    "        preds = outputs.argmax(dim=1)\n",
    "\n",
    "        # Count correct\n",
    "        correct += (preds == labels).sum().item()\n",
    "        total += labels.size(0)\n",
    "\n",
    "# Compute accuracy\n",
    "accuracy = correct / total\n",
    "print(f\"Test Accuracy: {accuracy:.2%}\")"
   ]
  },
  {
   "cell_type": "markdown",
   "metadata": {},
   "source": [
    "## Improving your model\n",
    "\n",
    "Once your model is done training, try tweaking your hyperparameters and training again below to improve your accuracy on the test set!"
   ]
  },
  {
   "cell_type": "code",
   "execution_count": 48,
   "metadata": {},
   "outputs": [
    {
     "name": "stdout",
     "output_type": "stream",
     "text": [
      "Epoch [1/10], Batch [250/750], Loss: 0.7523\n",
      "Epoch [1/10], Batch [500/750], Loss: 0.5715\n",
      "Epoch [1/10], Batch [750/750], Loss: 0.4873\n",
      "Epoch [1/10], Average Training Loss: 0.4873\n",
      " Validation Loss: 0.2722, Accuracy: 93.04%\n",
      "\n",
      "Epoch [2/10], Batch [250/750], Loss: 0.2826\n",
      "Epoch [2/10], Batch [500/750], Loss: 0.2767\n",
      "Epoch [2/10], Batch [750/750], Loss: 0.2638\n",
      "Epoch [2/10], Average Training Loss: 0.2638\n",
      " Validation Loss: 0.2046, Accuracy: 94.98%\n",
      "\n",
      "Epoch [3/10], Batch [250/750], Loss: 0.2128\n",
      "Epoch [3/10], Batch [500/750], Loss: 0.2098\n",
      "Epoch [3/10], Batch [750/750], Loss: 0.2092\n",
      "Epoch [3/10], Average Training Loss: 0.2092\n",
      " Validation Loss: 0.1837, Accuracy: 95.42%\n",
      "\n",
      "Epoch [4/10], Batch [250/750], Loss: 0.1872\n",
      "Epoch [4/10], Batch [500/750], Loss: 0.1882\n",
      "Epoch [4/10], Batch [750/750], Loss: 0.1863\n",
      "Epoch [4/10], Average Training Loss: 0.1863\n",
      " Validation Loss: 0.1733, Accuracy: 95.69%\n",
      "\n",
      "Epoch [5/10], Batch [250/750], Loss: 0.1764\n",
      "Epoch [5/10], Batch [500/750], Loss: 0.1761\n",
      "Epoch [5/10], Batch [750/750], Loss: 0.1711\n",
      "Epoch [5/10], Average Training Loss: 0.1711\n",
      " Validation Loss: 0.1558, Accuracy: 96.16%\n",
      "\n",
      "Epoch [6/10], Batch [250/750], Loss: 0.1571\n",
      "Epoch [6/10], Batch [500/750], Loss: 0.1597\n",
      "Epoch [6/10], Batch [750/750], Loss: 0.1595\n",
      "Epoch [6/10], Average Training Loss: 0.1595\n",
      " Validation Loss: 0.1537, Accuracy: 96.20%\n",
      "\n",
      "Epoch [7/10], Batch [250/750], Loss: 0.1605\n",
      "Epoch [7/10], Batch [500/750], Loss: 0.1545\n",
      "Epoch [7/10], Batch [750/750], Loss: 0.1503\n",
      "Epoch [7/10], Average Training Loss: 0.1503\n",
      " Validation Loss: 0.1338, Accuracy: 96.83%\n",
      "\n",
      "Epoch [8/10], Batch [250/750], Loss: 0.1384\n",
      "Epoch [8/10], Batch [500/750], Loss: 0.1413\n",
      "Epoch [8/10], Batch [750/750], Loss: 0.1425\n",
      "Epoch [8/10], Average Training Loss: 0.1425\n",
      " Validation Loss: 0.1591, Accuracy: 96.06%\n",
      "\n",
      "Epoch [9/10], Batch [250/750], Loss: 0.1392\n",
      "Epoch [9/10], Batch [500/750], Loss: 0.1385\n",
      "Epoch [9/10], Batch [750/750], Loss: 0.1370\n",
      "Epoch [9/10], Average Training Loss: 0.1370\n",
      " Validation Loss: 0.1278, Accuracy: 96.86%\n",
      "\n",
      "Epoch [10/10], Batch [250/750], Loss: 0.1300\n",
      "Epoch [10/10], Batch [500/750], Loss: 0.1320\n",
      "Epoch [10/10], Batch [750/750], Loss: 0.1324\n",
      "Epoch [10/10], Average Training Loss: 0.1324\n",
      " Validation Loss: 0.1314, Accuracy: 96.78%\n",
      "\n",
      "Test Accuracy: 97.32%\n"
     ]
    }
   ],
   "source": [
    "\n",
    "# Try a wider network + dropout + more epochs to boost accuracy\n",
    "# - Wider network: increase the number of neurons in the hidden layers\n",
    "# - Dropout: randomly set a fraction of the neurons to zero during training\n",
    "# - More epochs: increase the number of training epochs to allow the model to learn more\n",
    "\n",
    "class ImprovedNeuralNetwork(nn.Module):\n",
    "    def __init__(self):\n",
    "        super(ImprovedNeuralNetwork, self).__init__()\n",
    "        self.model = nn.Sequential(\n",
    "            nn.Linear(28*28, 256), # This widens the network; was 128.\n",
    "            nn.ReLU(),\n",
    "            nn.Dropout(0.3), # This adds dropout in the first layer; not in original.\n",
    "            nn.Linear(256, 128), # This widens the network; was 64.\n",
    "            nn.ReLU(),\n",
    "            nn.Dropout(0.3), # This adds dropout in the second layer; not in original.\n",
    "            nn.Linear(128, 10), # This was 64, but adjusted to match the output size in the wider network.\n",
    "            nn.LogSoftmax(dim=1)\n",
    "        )\n",
    "\n",
    "    def forward(self, x):\n",
    "        return self.model(x)\n",
    "\n",
    "\n",
    "# Instantiate & move to device\n",
    "model = ImprovedNeuralNetwork().to(device)\n",
    "\n",
    "# Loss & optimiser (keep NLLLoss with LogSoftmax)\n",
    "criterion = nn.NLLLoss()\n",
    "optimizer = optim.Adam(model.parameters(), lr=0.001)\n",
    "\n",
    "# Re‑train for more epochs\n",
    "epochs = 10 # This was 5, but increased to 10.\n",
    "train_losses = []\n",
    "val_losses = []\n",
    "train_accuracies = []\n",
    "val_accuracies = []\n",
    "\n",
    "### TRAINING LOOP ###\n",
    "# Loop over epochs\n",
    "for epoch in range(1, epochs+1):\n",
    "    model.train()\n",
    "    running_loss = 0.0\n",
    "\n",
    "    for batch_idx, (images, labels) in enumerate(train_loader, start=1):\n",
    "        images, labels = images.to(device), labels.to(device)\n",
    "        optimizer.zero_grad()\n",
    "        outputs = model(images)\n",
    "        loss = criterion(outputs, labels)\n",
    "        loss.backward()\n",
    "        optimizer.step()\n",
    "        running_loss += loss.item()\n",
    "\n",
    "        # Print every 250 batches\n",
    "        if batch_idx % 250 == 0:\n",
    "            # Calculate average loss for this epoch\n",
    "            avg_loss = running_loss / batch_idx\n",
    "\n",
    "            # Print loss\n",
    "            print(f\"Epoch [{epoch}/{epochs}], Batch [{batch_idx}/{len(train_loader)}], Loss: {avg_loss:.4f}\")\n",
    "\n",
    "    # Record average traiing loss for current epoch\n",
    "    avg_train_loss = running_loss / len(train_loader)\n",
    "    train_losses.append(avg_train_loss)\n",
    "    print(f\"Epoch [{epoch}/{epochs}], Average Training Loss: {avg_train_loss:.4f}\")\n",
    "\n",
    "### VALIDATION LOOP ###\n",
    "    \n",
    "    # Set model to evaluation mode\n",
    "    model.eval()\n",
    "    # Initialise running loss and accuracy\n",
    "    # - Running loss is the cumulative loss over all batches\n",
    "    # - Correct is the number of correct predictions\n",
    "    running_val_loss = 0.0\n",
    "    correct = total = 0\n",
    "\n",
    "    with torch.no_grad():\n",
    "        # Loop over batches in test set\n",
    "        # - No gradients are calculated during validation\n",
    "        # - No backpropagation or optimiser step\n",
    "        for images, labels in val_loader:\n",
    "            images, labels = images.to(device), labels.to(device)\n",
    "            outputs = model(images)\n",
    "            loss = criterion(outputs, labels)\n",
    "            running_val_loss += loss.item()\n",
    "\n",
    "            preds = outputs.argmax(dim=1)\n",
    "            correct += (preds == labels).sum().item()\n",
    "            total += labels.size(0)\n",
    "\n",
    "    # Calculate average validation loss and accuracy\n",
    "    # - Average validation loss is the cumulative loss over all batches\n",
    "    # - Correct is the number of correct predictions\n",
    "    # - Total is the total number of samples in the test set\n",
    "    # - Accuracy is the ratio of correct predictions to total samples\n",
    "    avg_val_loss = running_val_loss / len(test_loader)\n",
    "    val_accuracy = correct / total\n",
    "    val_losses.append(avg_val_loss)\n",
    "    val_accuracies.append(val_accuracy)\n",
    "\n",
    "    print(f\" Validation Loss: {avg_val_loss:.4f}, Accuracy: {val_accuracy:.2%}\\n\")\n",
    "\n",
    "### TESTING LOOP ###\n",
    "# Final test accuracy\n",
    "# Switch to eval mode\n",
    "model.eval()\n",
    "\n",
    "# Track total and correct\n",
    "total = 0\n",
    "correct = 0\n",
    "\n",
    "# Loop over batches in test set\n",
    "with torch.no_grad():\n",
    "    for images, labels in test_loader:\n",
    "        # Move data to device\n",
    "        images, labels = images.to(device), labels.to(device)\n",
    "\n",
    "        # Forward pass\n",
    "        outputs = model(images)\n",
    "\n",
    "        # Pick class with highest log-probability\n",
    "        preds = outputs.argmax(dim=1)\n",
    "\n",
    "        # Count correct\n",
    "        correct += (preds == labels).sum().item()\n",
    "        total += labels.size(0)\n",
    "\n",
    "# Compute accuracy\n",
    "accuracy = correct / total\n",
    "print(f\"Test Accuracy: {accuracy:.2%}\")\n"
   ]
  },
  {
   "cell_type": "markdown",
   "metadata": {},
   "source": [
    "## Saving your model\n",
    "Using `torch.save`, save your model for future loading."
   ]
  },
  {
   "cell_type": "code",
   "execution_count": 49,
   "metadata": {},
   "outputs": [
    {
     "name": "stdout",
     "output_type": "stream",
     "text": [
      "Model weights saved to mnist_model.pth\n"
     ]
    }
   ],
   "source": [
    "\n",
    "# Save the model weights\n",
    "# - model.state_dict() returns a dictionary containing the model's parameters\n",
    "# - torch.save() saves the state dictionary to a file\n",
    "# - 'mnist_model.pth' is the file name\n",
    "torch.save(model.state_dict(), 'mnist_model.pth')\n",
    "print(\"Model weights saved to mnist_model.pth\")\n",
    "\n",
    "# To reload later:\n",
    "# model = ImprovedNeuralNetwork().to(device)\n",
    "# model.load_state_dict(torch.load('mnist_model.pth'))\n",
    "# model.eval()\n"
   ]
  }
 ],
 "metadata": {
  "kernelspec": {
   "display_name": "mnist-ocr",
   "language": "python",
   "name": "python3"
  },
  "language_info": {
   "codemirror_mode": {
    "name": "ipython",
    "version": 3
   },
   "file_extension": ".py",
   "mimetype": "text/x-python",
   "name": "python",
   "nbconvert_exporter": "python",
   "pygments_lexer": "ipython3",
   "version": "3.10.16"
  }
 },
 "nbformat": 4,
 "nbformat_minor": 4
}
