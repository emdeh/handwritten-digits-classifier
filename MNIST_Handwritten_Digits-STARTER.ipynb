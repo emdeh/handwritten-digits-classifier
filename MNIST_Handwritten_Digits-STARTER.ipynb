{
 "cells": [
  {
   "cell_type": "markdown",
   "metadata": {},
   "source": [
    "# Introduction\n",
    "\n",
    "In this project, you will build a neural network of your own design to evaluate the MNIST dataset.\n",
    "\n",
    "Some of the benchmark results on MNIST include can be found [on Yann LeCun's page](https://webcache.googleusercontent.com/search?q=cache:stAVPik6onEJ:yann.lecun.com/exdb/mnist) and include:\n",
    "\n",
    "88% [Lecun et al., 1998](https://hal.science/hal-03926082/document)\n",
    "\n",
    "95.3% [Lecun et al., 1998](https://hal.science/hal-03926082v1/document)\n",
    "\n",
    "99.65% [Ciresan et al., 2011](http://people.idsia.ch/~juergen/ijcai2011.pdf)\n",
    "\n",
    "\n",
    "MNIST is a great dataset for sanity checking your models, since the accuracy levels achieved by large convolutional neural networks and small linear models are both quite high. This makes it important to be familiar with the data.\n",
    "\n",
    "## Installation"
   ]
  },
  {
   "cell_type": "code",
   "execution_count": 1,
   "metadata": {},
   "outputs": [
    {
     "name": "stdout",
     "output_type": "stream",
     "text": [
      "Requirement already satisfied: ipywidgets==8.1.5 in /home/emdeh/anaconda3/envs/mnist-ocr/lib/python3.10/site-packages (from -r requirements.txt (line 1)) (8.1.5)\n",
      "Requirement already satisfied: comm>=0.1.3 in /home/emdeh/anaconda3/envs/mnist-ocr/lib/python3.10/site-packages (from ipywidgets==8.1.5->-r requirements.txt (line 1)) (0.2.2)\n",
      "Requirement already satisfied: ipython>=6.1.0 in /home/emdeh/anaconda3/envs/mnist-ocr/lib/python3.10/site-packages (from ipywidgets==8.1.5->-r requirements.txt (line 1)) (8.35.0)\n",
      "Requirement already satisfied: traitlets>=4.3.1 in /home/emdeh/anaconda3/envs/mnist-ocr/lib/python3.10/site-packages (from ipywidgets==8.1.5->-r requirements.txt (line 1)) (5.14.3)\n",
      "Requirement already satisfied: widgetsnbextension~=4.0.12 in /home/emdeh/anaconda3/envs/mnist-ocr/lib/python3.10/site-packages (from ipywidgets==8.1.5->-r requirements.txt (line 1)) (4.0.14)\n",
      "Requirement already satisfied: jupyterlab-widgets~=3.0.12 in /home/emdeh/anaconda3/envs/mnist-ocr/lib/python3.10/site-packages (from ipywidgets==8.1.5->-r requirements.txt (line 1)) (3.0.14)\n",
      "Requirement already satisfied: decorator in /home/emdeh/anaconda3/envs/mnist-ocr/lib/python3.10/site-packages (from ipython>=6.1.0->ipywidgets==8.1.5->-r requirements.txt (line 1)) (5.2.1)\n",
      "Requirement already satisfied: exceptiongroup in /home/emdeh/anaconda3/envs/mnist-ocr/lib/python3.10/site-packages (from ipython>=6.1.0->ipywidgets==8.1.5->-r requirements.txt (line 1)) (1.2.2)\n",
      "Requirement already satisfied: jedi>=0.16 in /home/emdeh/anaconda3/envs/mnist-ocr/lib/python3.10/site-packages (from ipython>=6.1.0->ipywidgets==8.1.5->-r requirements.txt (line 1)) (0.19.2)\n",
      "Requirement already satisfied: matplotlib-inline in /home/emdeh/anaconda3/envs/mnist-ocr/lib/python3.10/site-packages (from ipython>=6.1.0->ipywidgets==8.1.5->-r requirements.txt (line 1)) (0.1.7)\n",
      "Requirement already satisfied: pexpect>4.3 in /home/emdeh/anaconda3/envs/mnist-ocr/lib/python3.10/site-packages (from ipython>=6.1.0->ipywidgets==8.1.5->-r requirements.txt (line 1)) (4.9.0)\n",
      "Requirement already satisfied: prompt_toolkit<3.1.0,>=3.0.41 in /home/emdeh/anaconda3/envs/mnist-ocr/lib/python3.10/site-packages (from ipython>=6.1.0->ipywidgets==8.1.5->-r requirements.txt (line 1)) (3.0.50)\n",
      "Requirement already satisfied: pygments>=2.4.0 in /home/emdeh/anaconda3/envs/mnist-ocr/lib/python3.10/site-packages (from ipython>=6.1.0->ipywidgets==8.1.5->-r requirements.txt (line 1)) (2.19.1)\n",
      "Requirement already satisfied: stack_data in /home/emdeh/anaconda3/envs/mnist-ocr/lib/python3.10/site-packages (from ipython>=6.1.0->ipywidgets==8.1.5->-r requirements.txt (line 1)) (0.6.3)\n",
      "Requirement already satisfied: typing_extensions>=4.6 in /home/emdeh/anaconda3/envs/mnist-ocr/lib/python3.10/site-packages (from ipython>=6.1.0->ipywidgets==8.1.5->-r requirements.txt (line 1)) (4.13.2)\n",
      "Requirement already satisfied: parso<0.9.0,>=0.8.4 in /home/emdeh/anaconda3/envs/mnist-ocr/lib/python3.10/site-packages (from jedi>=0.16->ipython>=6.1.0->ipywidgets==8.1.5->-r requirements.txt (line 1)) (0.8.4)\n",
      "Requirement already satisfied: ptyprocess>=0.5 in /home/emdeh/anaconda3/envs/mnist-ocr/lib/python3.10/site-packages (from pexpect>4.3->ipython>=6.1.0->ipywidgets==8.1.5->-r requirements.txt (line 1)) (0.7.0)\n",
      "Requirement already satisfied: wcwidth in /home/emdeh/anaconda3/envs/mnist-ocr/lib/python3.10/site-packages (from prompt_toolkit<3.1.0,>=3.0.41->ipython>=6.1.0->ipywidgets==8.1.5->-r requirements.txt (line 1)) (0.2.13)\n",
      "Requirement already satisfied: executing>=1.2.0 in /home/emdeh/anaconda3/envs/mnist-ocr/lib/python3.10/site-packages (from stack_data->ipython>=6.1.0->ipywidgets==8.1.5->-r requirements.txt (line 1)) (2.1.0)\n",
      "Requirement already satisfied: asttokens>=2.1.0 in /home/emdeh/anaconda3/envs/mnist-ocr/lib/python3.10/site-packages (from stack_data->ipython>=6.1.0->ipywidgets==8.1.5->-r requirements.txt (line 1)) (3.0.0)\n",
      "Requirement already satisfied: pure_eval in /home/emdeh/anaconda3/envs/mnist-ocr/lib/python3.10/site-packages (from stack_data->ipython>=6.1.0->ipywidgets==8.1.5->-r requirements.txt (line 1)) (0.2.3)\n"
     ]
    }
   ],
   "source": [
    "# Restart the Kernel after you execute this command.\n",
    "\n",
    "!python -m pip install -r requirements.txt"
   ]
  },
  {
   "cell_type": "markdown",
   "metadata": {},
   "source": [
    "**Important: Restart the Kernel at this moment**"
   ]
  },
  {
   "cell_type": "markdown",
   "metadata": {},
   "source": [
    "## Imports"
   ]
  },
  {
   "cell_type": "code",
   "execution_count": 6,
   "metadata": {},
   "outputs": [],
   "source": [
    "## This cell contains the essential imports you will need – DO NOT CHANGE THE CONTENTS! ##\n",
    "import torch\n",
    "import torch.nn as nn\n",
    "import torch.nn.functional as F\n",
    "import torch.optim as optim\n",
    "import torchvision\n",
    "import torchvision.transforms as transforms\n",
    "import matplotlib.pyplot as plt\n",
    "import numpy as np"
   ]
  },
  {
   "cell_type": "markdown",
   "metadata": {},
   "source": [
    "## Load the Dataset\n",
    "\n",
    "Specify your transforms as a list if you intend to .\n",
    "The transforms module is already loaded as `transforms`.\n",
    "\n",
    "MNIST is fortunately included in the torchvision module.\n",
    "Then, you can create your dataset using the `MNIST` object from `torchvision.datasets` ([the documentation is available here](https://pytorch.org/vision/stable/datasets.html#mnist)).\n",
    "Make sure to specify `download=True`! \n",
    "\n",
    "Once your dataset is created, you'll also need to define a `DataLoader` from the `torch.utils.data` module for both the train and the test set."
   ]
  },
  {
   "cell_type": "code",
   "execution_count": null,
   "metadata": {},
   "outputs": [
    {
     "name": "stdout",
     "output_type": "stream",
     "text": [
      "Downloading http://yann.lecun.com/exdb/mnist/train-images-idx3-ubyte.gz\n",
      "Failed to download (trying next):\n",
      "HTTP Error 404: Not Found\n",
      "\n",
      "Downloading https://ossci-datasets.s3.amazonaws.com/mnist/train-images-idx3-ubyte.gz\n",
      "Downloading https://ossci-datasets.s3.amazonaws.com/mnist/train-images-idx3-ubyte.gz to ./data/MNIST/raw/train-images-idx3-ubyte.gz\n"
     ]
    },
    {
     "name": "stderr",
     "output_type": "stream",
     "text": [
      "100.0%\n"
     ]
    },
    {
     "name": "stdout",
     "output_type": "stream",
     "text": [
      "Extracting ./data/MNIST/raw/train-images-idx3-ubyte.gz to ./data/MNIST/raw\n",
      "\n",
      "Downloading http://yann.lecun.com/exdb/mnist/train-labels-idx1-ubyte.gz\n",
      "Failed to download (trying next):\n",
      "HTTP Error 404: Not Found\n",
      "\n",
      "Downloading https://ossci-datasets.s3.amazonaws.com/mnist/train-labels-idx1-ubyte.gz\n",
      "Downloading https://ossci-datasets.s3.amazonaws.com/mnist/train-labels-idx1-ubyte.gz to ./data/MNIST/raw/train-labels-idx1-ubyte.gz\n"
     ]
    },
    {
     "name": "stderr",
     "output_type": "stream",
     "text": [
      "100.0%\n"
     ]
    },
    {
     "name": "stdout",
     "output_type": "stream",
     "text": [
      "Extracting ./data/MNIST/raw/train-labels-idx1-ubyte.gz to ./data/MNIST/raw\n",
      "\n",
      "Downloading http://yann.lecun.com/exdb/mnist/t10k-images-idx3-ubyte.gz\n",
      "Failed to download (trying next):\n",
      "HTTP Error 404: Not Found\n",
      "\n",
      "Downloading https://ossci-datasets.s3.amazonaws.com/mnist/t10k-images-idx3-ubyte.gz\n",
      "Downloading https://ossci-datasets.s3.amazonaws.com/mnist/t10k-images-idx3-ubyte.gz to ./data/MNIST/raw/t10k-images-idx3-ubyte.gz\n"
     ]
    },
    {
     "name": "stderr",
     "output_type": "stream",
     "text": [
      "100.0%\n"
     ]
    },
    {
     "name": "stdout",
     "output_type": "stream",
     "text": [
      "Extracting ./data/MNIST/raw/t10k-images-idx3-ubyte.gz to ./data/MNIST/raw\n",
      "\n",
      "Downloading http://yann.lecun.com/exdb/mnist/t10k-labels-idx1-ubyte.gz\n",
      "Failed to download (trying next):\n",
      "HTTP Error 404: Not Found\n",
      "\n",
      "Downloading https://ossci-datasets.s3.amazonaws.com/mnist/t10k-labels-idx1-ubyte.gz\n",
      "Downloading https://ossci-datasets.s3.amazonaws.com/mnist/t10k-labels-idx1-ubyte.gz to ./data/MNIST/raw/t10k-labels-idx1-ubyte.gz\n"
     ]
    },
    {
     "name": "stderr",
     "output_type": "stream",
     "text": [
      "100.0%"
     ]
    },
    {
     "name": "stdout",
     "output_type": "stream",
     "text": [
      "Extracting ./data/MNIST/raw/t10k-labels-idx1-ubyte.gz to ./data/MNIST/raw\n",
      "\n"
     ]
    },
    {
     "name": "stderr",
     "output_type": "stream",
     "text": [
      "\n"
     ]
    },
    {
     "data": {
      "text/plain": [
       "'\\nWhy Normalize((0.5,), (0.5,))?\\n- After ToTensor(), pixel values are in [0, 1]\\n- Normalizing with mean=0.5 and std=0.5 maps them to [-1, 1]\\n- This zero-centres the input and standardises scale, which:\\n  - Improves gradient flow\\n  - Leads to faster convergence\\n  - Helps prevent vanishing/exploding gradients in deep networks\\n\\nWhy Lambda(lambda x: x.view(-1))?\\n- MNIST images are 28x28 (2D), resulting in a tensor shape of (1, 28, 28)\\n- Fully connected (dense) layers expect flat 1D input vectors\\n- .view(-1) flattens the image to shape (784,) for compatibility with nn.Linear input\\n'"
      ]
     },
     "execution_count": 7,
     "metadata": {},
     "output_type": "execute_result"
    }
   ],
   "source": [
    "# Define transforms\n",
    "# - ToTensor() converts PIL image to a PyTorch tensor and scales pixel values from [0, 255] → [0.0, 1.0]\n",
    "#\n",
    "# - Normalize(mean, std) rescales the image further to [-1, 1] using the formula: x' = (x - mean) / std\n",
    "#     This standardisation helps reduce internal covariate shift, allowing the model to converge faster\n",
    "#     because the data distribution is more stable and zero-centred.\n",
    "#\n",
    "# - Lambda(lambda x: x.view(-1)) flattens the image from a 2D shape (1, 28, 28) → (784,)\n",
    "#     This is necessary for fully connected layers that expect 1D input features per example\n",
    "\n",
    "transform = transforms.Compose([\n",
    "    transforms.ToTensor(),\n",
    "    transforms.Normalize((0.5,), (0.5,)),\n",
    "    transforms.Lambda(lambda x: x.view(-1))\n",
    "])\n",
    "\n",
    "# Create training set and define training dataloader\n",
    "from torchvision.datasets import MNIST\n",
    "from torch.utils.data import DataLoader\n",
    "\n",
    "train_dataset = MNIST(root='./data', train=True, download=True, transform=transform)\n",
    "train_loader = DataLoader(dataset=train_dataset, batch_size=64, shuffle=True)\n",
    "\n",
    "# Create test set and define test dataloader\n",
    "test_dataset = MNIST(root='./data', train=False, download=True, transform=transform)\n",
    "test_loader = DataLoader(dataset=test_dataset, batch_size=64, shuffle=False)\n"
   ]
  },
  {
   "cell_type": "markdown",
   "metadata": {},
   "source": [
    "## Justify your preprocessing\n",
    "\n",
    "In your own words, why did you choose the transforms you chose? If you didn't use any preprocessing steps, why not?"
   ]
  },
  {
   "cell_type": "markdown",
   "metadata": {},
   "source": [
    "## Justification of Preprocessing Steps\n",
    "\n",
    "**`ToTensor()`:**\n",
    "Converts each image from a PIL object to a PyTorch tensor and scales pixel values from `[0, 255]` to `[0.0, 1.0]`. This is required because neural networks in `PyTorch` operate on tensors, not PIL images or NumPy arrays.\n",
    "\n",
    "**`Normalize((0.5,), (0.5,))`:**\n",
    "Further scales the input to the range `[-1, 1]`. Normalisation centres the data around zero, which improves training stability and speeds up convergence toward the set of weights (i.e., model parameters) that minimise the loss function. This helps the optimiser make smoother progress during gradient descent — especially in deep networks, where poorly scaled inputs can lead to unstable or slow training.\n",
    "\n",
    "**`Lambda(lambda x: x.view(-1))`:**\n",
    "This transform flattens each `28×28` image — originally shaped as `[1, 28, 28]` (1 grayscale channel and 28×28 pixels) — into a 1D vector of 784 elements. This is required because the input to a fully connected neural network must be a vector, not a 2D grid.\n",
    "\n",
    "In this project, we use `nn.Linear` layers, which expect inputs of shape `[batch_size, features]`, where:\n",
    "- `batch_size` is the number of examples passed together in one forward/backward pass\n",
    "- `features` is the number of input values per example. For MNIST, `28×28` pixels = **784 features** (i.e., individual pixel values treated as a vector)\n",
    "\n",
    "Flattening ensures that each image can be correctly passed to the input layer, where the number of input features must match the expected size (in this case, 784).\n",
    "\n",
    "Without flattening, a shape mismatch error would occur when passing 2D image tensors into the input layer. Flattening transforms the 2D spatial structure of the image into a linear representation that can be processed by the network."
   ]
  },
  {
   "cell_type": "markdown",
   "metadata": {},
   "source": [
    "## Explore the Dataset\n",
    "Using matplotlib, numpy, and torch, explore the dimensions of your data.\n",
    "\n",
    "You can view images using the `show5` function defined below – it takes a data loader as an argument.\n",
    "Remember that normalized images will look really weird to you! You may want to try changing your transforms to view images.\n",
    "Typically using no transforms other than `toTensor()` works well for viewing – but not as well for training your network.\n",
    "If `show5` doesn't work, go back and check your code for creating your data loaders and your training/test sets."
   ]
  },
  {
   "cell_type": "code",
   "execution_count": 8,
   "metadata": {},
   "outputs": [],
   "source": [
    "## This cell contains a function for showing 5 images from a dataloader – DO NOT CHANGE THE CONTENTS! ##\n",
    "def show5(img_loader):\n",
    "    dataiter = iter(img_loader)\n",
    "    \n",
    "    batch = next(dataiter)\n",
    "    labels = batch[1][0:5]\n",
    "    images = batch[0][0:5]\n",
    "    for i in range(5):\n",
    "        print(int(labels[i].detach()))\n",
    "    \n",
    "        image = images[i].numpy()\n",
    "        plt.imshow(image.T.squeeze().T)\n",
    "        plt.show()"
   ]
  },
  {
   "cell_type": "code",
   "execution_count": 11,
   "metadata": {},
   "outputs": [
    {
     "name": "stdout",
     "output_type": "stream",
     "text": [
      "9\n"
     ]
    },
    {
     "data": {
      "image/png": "[encoded data removed]",
      "text/plain": [
       "<Figure size 640x480 with 1 Axes>"
      ]
     },
     "metadata": {},
     "output_type": "display_data"
    },
    {
     "name": "stdout",
     "output_type": "stream",
     "text": [
      "8\n"
     ]
    },
    {
     "data": {
      "image/png": "[encoded data removed]",
      "text/plain": [
       "<Figure size 640x480 with 1 Axes>"
      ]
     },
     "metadata": {},
     "output_type": "display_data"
    },
    {
     "name": "stdout",
     "output_type": "stream",
     "text": [
      "5\n"
     ]
    },
    {
     "data": {
      "image/png": "[encoded data removed]",
      "text/plain": [
       "<Figure size 640x480 with 1 Axes>"
      ]
     },
     "metadata": {},
     "output_type": "display_data"
    },
    {
     "name": "stdout",
     "output_type": "stream",
     "text": [
      "9\n"
     ]
    },
    {
     "data": {
      "image/png": "[encoded data removed]",
      "text/plain": [
       "<Figure size 640x480 with 1 Axes>"
      ]
     },
     "metadata": {},
     "output_type": "display_data"
    },
    {
     "name": "stdout",
     "output_type": "stream",
     "text": [
      "3\n"
     ]
    },
    {
     "data": {
      "image/png": "[encoded data removed]",
      "text/plain": [
       "<Figure size 640x480 with 1 Axes>"
      ]
     },
     "metadata": {},
     "output_type": "display_data"
    },
    {
     "name": "stdout",
     "output_type": "stream",
     "text": [
      "Image shape (before transform): torch.Size([1, 28, 28])\n",
      "Label (class index): 5\n",
      "Image shape (after transform): torch.Size([784])\n",
      "Label: 5\n",
      "Total training samples: 60000\n",
      "Total test samples: 10000\n"
     ]
    }
   ],
   "source": [
    "# Explore data\n",
    "\n",
    "# Transform for human viewing - no normalisation or flattening\n",
    "view_transform = transforms.ToTensor()\n",
    "\n",
    "# New dataset and dataloader for viewing\n",
    "view_dataset = MNIST(root='./data', train=True, download=True, transform=view_transform)\n",
    "view_loader = DataLoader(dataset=view_dataset, batch_size=64, shuffle=True)\n",
    "\n",
    "# Show 5 images\n",
    "show5(view_loader)\n",
    "\n",
    "# Explore data shape\n",
    "sample_image, sample_label = view_dataset[0]\n",
    "\n",
    "print(f\"Image shape (before transform): {sample_image.shape}\") # should be (1, 28, 28)\n",
    "print(f\"Label (class index): {sample_label}\")  # should be somehting like: 7\n",
    "\n",
    "\n",
    "print(f\"Image shape (after transform): {sample_image.view(-1).shape}\")\n",
    "print(f\"Label: {sample_label}\")\n",
    "\n",
    "print(f\"Total training samples: {len(train_dataset)}\")\n",
    "print(f\"Total test samples: {len(test_dataset)}\")\n",
    "\n"
   ]
  },
  {
   "cell_type": "markdown",
   "metadata": {},
   "source": [
    "## Build your Neural Network\n",
    "Using the layers in `torch.nn` (which has been imported as `nn`) and the `torch.nn.functional` module (imported as `F`), construct a neural network based on the parameters of the dataset.\n",
    "Use any architecture you like. \n",
    "\n",
    "*Note*: If you did not flatten your tensors in your transforms or as part of your preprocessing and you are using only `Linear` layers, make sure to use the `Flatten` layer in your network!"
   ]
  },
  {
   "cell_type": "code",
   "execution_count": null,
   "metadata": {},
   "outputs": [],
   "source": [
    "## YOUR CODE HERE ##"
   ]
  },
  {
   "cell_type": "markdown",
   "metadata": {},
   "source": [
    "Specify a loss function and an optimizer, and instantiate the model.\n",
    "\n",
    "If you use a less common loss function, please note why you chose that loss function in a comment."
   ]
  },
  {
   "cell_type": "code",
   "execution_count": null,
   "metadata": {},
   "outputs": [],
   "source": [
    "## YOUR CODE HERE ##"
   ]
  },
  {
   "cell_type": "markdown",
   "metadata": {},
   "source": [
    "## Running your Neural Network\n",
    "Use whatever method you like to train your neural network, and ensure you record the average loss at each epoch. \n",
    "Don't forget to use `torch.device()` and the `.to()` method for both your model and your data if you are using GPU!\n",
    "\n",
    "If you want to print your loss **during** each epoch, you can use the `enumerate` function and print the loss after a set number of batches. 250 batches works well for most people!"
   ]
  },
  {
   "cell_type": "code",
   "execution_count": null,
   "metadata": {},
   "outputs": [],
   "source": [
    "## YOUR CODE HERE ##"
   ]
  },
  {
   "cell_type": "markdown",
   "metadata": {},
   "source": [
    "Plot the training loss (and validation loss/accuracy, if recorded)."
   ]
  },
  {
   "cell_type": "code",
   "execution_count": null,
   "metadata": {},
   "outputs": [],
   "source": [
    "## YOUR CODE HERE ##"
   ]
  },
  {
   "cell_type": "markdown",
   "metadata": {},
   "source": [
    "## Testing your model\n",
    "Using the previously created `DataLoader` for the test set, compute the percentage of correct predictions using the highest probability prediction. \n",
    "\n",
    "If your accuracy is over 90%, great work, but see if you can push a bit further! \n",
    "If your accuracy is under 90%, you'll need to make improvements.\n",
    "Go back and check your model architecture, loss function, and optimizer to make sure they're appropriate for an image classification task."
   ]
  },
  {
   "cell_type": "code",
   "execution_count": null,
   "metadata": {},
   "outputs": [],
   "source": [
    "## YOUR CODE HERE ##"
   ]
  },
  {
   "cell_type": "markdown",
   "metadata": {},
   "source": [
    "## Improving your model\n",
    "\n",
    "Once your model is done training, try tweaking your hyperparameters and training again below to improve your accuracy on the test set!"
   ]
  },
  {
   "cell_type": "code",
   "execution_count": null,
   "metadata": {},
   "outputs": [],
   "source": [
    "## YOUR CODE HERE ##"
   ]
  },
  {
   "cell_type": "markdown",
   "metadata": {},
   "source": [
    "## Saving your model\n",
    "Using `torch.save`, save your model for future loading."
   ]
  },
  {
   "cell_type": "code",
   "execution_count": null,
   "metadata": {},
   "outputs": [],
   "source": [
    "## YOUR CODE HERE ##"
   ]
  }
 ],
 "metadata": {
  "kernelspec": {
   "display_name": "mnist-ocr",
   "language": "python",
   "name": "python3"
  },
  "language_info": {
   "codemirror_mode": {
    "name": "ipython",
    "version": 3
   },
   "file_extension": ".py",
   "mimetype": "text/x-python",
   "name": "python",
   "nbconvert_exporter": "python",
   "pygments_lexer": "ipython3",
   "version": "3.10.16"
  }
 },
 "nbformat": 4,
 "nbformat_minor": 4
}
